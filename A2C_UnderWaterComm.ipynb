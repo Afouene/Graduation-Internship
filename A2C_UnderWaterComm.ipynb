{
 "cells": [
  {
   "cell_type": "code",
   "execution_count": 2,
   "metadata": {},
   "outputs": [],
   "source": [
    "\n",
    "\n",
    "import os\n",
    "#os.environ['CUDA_VISIBLE_DEVICES'] = '0'\n",
    "import random\n",
    "import pylab\n",
    "import numpy as np\n",
    "from tensorflow.keras.models import Model, load_model\n",
    "from tensorflow.keras.layers import Input, Dense, Lambda, Add, Conv2D, Flatten\n",
    "from tensorflow.keras.optimizers import Adam, RMSprop\n",
    "from tensorflow.keras import backend as K\n",
    "import cv2\n",
    "from gym.envs.registration import register"
   ]
  },
  {
   "cell_type": "markdown",
   "metadata": {},
   "source": [
    "Defining The Model "
   ]
  },
  {
   "cell_type": "code",
   "execution_count": 3,
   "metadata": {},
   "outputs": [],
   "source": [
    "def OurModel(input_shape, action_space, lr):\n",
    "    X_input = Input(input_shape)\n",
    "\n",
    "    #X = Conv2D(32, 8, strides=(4, 4),padding=\"valid\", activation=\"elu\", data_format=\"channels_first\", input_shape=input_shape)(X_input)\n",
    "    #X = Conv2D(64, 4, strides=(2, 2),padding=\"valid\", activation=\"elu\", data_format=\"channels_first\")(X)\n",
    "    #X = Conv2D(64, 3, strides=(1, 1),padding=\"valid\", activation=\"elu\", data_format=\"channels_first\")(X)\n",
    "    X = Flatten(input_shape=input_shape)(X_input)\n",
    "\n",
    "    X = Dense(512, activation=\"elu\", kernel_initializer='he_uniform')(X)\n",
    "    #X = Dense(256, activation=\"elu\", kernel_initializer='he_uniform')(X)\n",
    "    #X = Dense(64, activation=\"elu\", kernel_initializer='he_uniform')(X)\n",
    "\n",
    "    direction_output = Dense(action_space[0], activation=\"softmax\", kernel_initializer='he_uniform', name='direction')(X)\n",
    "    selection_node_output = Dense(action_space[1], activation=\"softmax\", kernel_initializer='he_uniform', name='selection_node')(X)\n",
    "    value_output = Dense(1, kernel_initializer='he_uniform')(X)\n",
    "\n",
    "    Actor = Model(inputs=X_input, outputs=[direction_output, selection_node_output])\n",
    "    Actor.compile(loss='categorical_crossentropy', optimizer=RMSprop(lr=lr))\n",
    "\n",
    "    Critic = Model(inputs = X_input, outputs = value_output)\n",
    "    Critic.compile(loss='mse', optimizer=RMSprop(lr=lr))\n",
    "\n",
    "    return Actor, Critic"
   ]
  },
  {
   "cell_type": "code",
   "execution_count": 12,
   "metadata": {},
   "outputs": [],
   "source": [
    "class A2CAgent:\n",
    "    def __init__(self,environment):\n",
    "        self.env=environment\n",
    "        self.action_size=environment.action_space\n",
    "        self.EPISODES=5\n",
    "        self.state_size = (3,)  \n",
    "\n",
    "        self.lr = 0.000025\n",
    "        self.states, self.actions, self.rewards = [], [], []\n",
    "\n",
    "        self.Save_Path = 'training\\saved_models'\n",
    "        if not os.path.exists(self.Save_Path): os.makedirs(self.Save_Path)\n",
    "        self.path = '{}_A2C_{}'.format(self.env, self.lr)\n",
    "        self.Model_name = os.path.join(self.Save_Path, self.path)\n",
    "\n",
    "        self.Actor, self.Critic = OurModel(input_shape=self.state_size, action_space = self.action_size,lr=self.lr)\n",
    "\n",
    "    \n",
    "\n",
    "    def remember(self, state, action, reward):\n",
    "\n",
    "        self.states.append(state)\n",
    "        self.actions.append(action)  \n",
    "        self.rewards.append(reward)\n",
    "\n",
    "    \n",
    "    def act(self,state):\n",
    "        direction_probs,selection_node_probs=self.Actor.predict(state)\n",
    "        direction = np.random.choice(len(direction_probs), p=direction_probs[0])\n",
    "        selection_node = np.random.choice(len(selection_node_probs), p=selection_node_probs[0])\n",
    "\n",
    "        return direction,selection_node\n",
    "    \n",
    "    def discount_rewards(self, reward):\n",
    "        gamma = 0.99  # discount rate\n",
    "        discounted_r = np.zeros_like(reward)\n",
    "        running_add = 0\n",
    "\n",
    "    # Compute discounted rewards for each time step\n",
    "        for t in reversed(range(len(reward))):\n",
    "            running_add = running_add * gamma + reward[t]\n",
    "            discounted_r[t] = running_add\n",
    "\n",
    "        return discounted_r\n",
    "    \n",
    "    def replay(self):\n",
    "        states=np.vstack(self.states)\n",
    "        actions_dir,actions_selection_node=np.vstack([ act[0] for act in self.actions]), np.vstack([act[1] for act in self.actions])\n",
    "\n",
    "        discounted_r=self.discount_rewards(self.rewards)\n",
    "        values=self.Critic.predict(states)[:,0]\n",
    "        advantages_dir = discounted_r - values\n",
    "        advantages_node = discounted_r - values\n",
    "\n",
    "    # Training Actor and Critic networks for direction and selection node actions separately\n",
    "        self.Actor.fit(states, [actions_dir, actions_selection_node], sample_weight=[advantages_dir, advantages_node], epochs=1, verbose=0)\n",
    "        self.Critic.fit(states, discounted_r, epochs=1, verbose=0)\n",
    "\n",
    "        self.states, self.actions, self.rewards = [], [], []     # Reset training memory\n",
    "\n",
    "    def load(self, Actor_name, Critic_name):\n",
    "        self.Actor = load_model(Actor_name, compile=False)\n",
    "        #self.Critic = load_model(Critic_name, compile=False)\n",
    "\n",
    "    def save(self):\n",
    "        self.Actor.save(self.Model_name + '_Actor.h5')\n",
    "        #self.Critic.save(self.Model_name + '_Critic.h5')\n",
    "\n",
    "    def step(self, action):\n",
    "        next_state, reward, done, info = self.env.step(action)\n",
    "        \n",
    "        return next_state, reward, done, info\n",
    "    def run(self):\n",
    "        for e in range(self.EPISODES):\n",
    "            state = self.reset()\n",
    "            done, score, SAVING = False, 0, ''\n",
    "            while not done:\n",
    "                self.env.render()\n",
    "                # Actor picks an action\n",
    "                action = self.act(state)\n",
    "                # Retrieve new state, reward, and whether the state is terminal\n",
    "                next_state, reward, done, _ = self.step(action)\n",
    "                # Memorize (state, action, reward) for training\n",
    "                self.remember(state, action, reward)\n",
    "                # Update current state\n",
    "                state = next_state\n",
    "                score += reward\n",
    "                if done:\n",
    "                    \n",
    "                    print(\"episode: {}/{}, score: {}, average: {:.2f} {}\".format(e, self.EPISODES, score, average, SAVING))\n",
    "\n",
    "                    self.replay()\n",
    "        # close environemnt when finish training\n",
    "        self.env.close()\n",
    "    \n",
    "\n",
    "\n",
    "\n",
    "    \n",
    "\n",
    "\n",
    "    \n",
    "\n",
    "\n",
    "\n",
    "\n"
   ]
  },
  {
   "cell_type": "code",
   "execution_count": 14,
   "metadata": {},
   "outputs": [
    {
     "data": {
      "text/plain": [
       "MultiDiscrete([6 5])"
      ]
     },
     "execution_count": 14,
     "metadata": {},
     "output_type": "execute_result"
    }
   ],
   "source": [
    "env.action_space"
   ]
  },
  {
   "cell_type": "code",
   "execution_count": 13,
   "metadata": {},
   "outputs": [
    {
     "name": "stdout",
     "output_type": "stream",
     "text": [
      "WARNING:tensorflow:From c:\\Users\\afoue\\AppData\\Local\\Programs\\Python\\Python311\\Lib\\site-packages\\keras\\src\\backend.py:1398: The name tf.executing_eagerly_outside_functions is deprecated. Please use tf.compat.v1.executing_eagerly_outside_functions instead.\n",
      "\n"
     ]
    },
    {
     "ename": "TypeError",
     "evalue": "int() argument must be a string, a bytes-like object or a real number, not 'Discrete'",
     "output_type": "error",
     "traceback": [
      "\u001b[1;31m---------------------------------------------------------------------------\u001b[0m",
      "\u001b[1;31mTypeError\u001b[0m                                 Traceback (most recent call last)",
      "Cell \u001b[1;32mIn[13], line 6\u001b[0m\n\u001b[0;32m      1\u001b[0m \u001b[38;5;28;01mfrom\u001b[39;00m \u001b[38;5;21;01msetting_the_environment\u001b[39;00m \u001b[38;5;28;01mimport\u001b[39;00m AUVEnvironment  \n\u001b[0;32m      4\u001b[0m env \u001b[38;5;241m=\u001b[39m AUVEnvironment()\n\u001b[1;32m----> 6\u001b[0m agent \u001b[38;5;241m=\u001b[39m \u001b[43mA2CAgent\u001b[49m\u001b[43m(\u001b[49m\u001b[43menv\u001b[49m\u001b[43m)\u001b[49m\n\u001b[0;32m      7\u001b[0m agent\u001b[38;5;241m.\u001b[39mrun()\n",
      "Cell \u001b[1;32mIn[12], line 16\u001b[0m, in \u001b[0;36mA2CAgent.__init__\u001b[1;34m(self, environment)\u001b[0m\n\u001b[0;32m     13\u001b[0m \u001b[38;5;28mself\u001b[39m\u001b[38;5;241m.\u001b[39mpath \u001b[38;5;241m=\u001b[39m \u001b[38;5;124m'\u001b[39m\u001b[38;5;132;01m{}\u001b[39;00m\u001b[38;5;124m_A2C_\u001b[39m\u001b[38;5;132;01m{}\u001b[39;00m\u001b[38;5;124m'\u001b[39m\u001b[38;5;241m.\u001b[39mformat(\u001b[38;5;28mself\u001b[39m\u001b[38;5;241m.\u001b[39menv, \u001b[38;5;28mself\u001b[39m\u001b[38;5;241m.\u001b[39mlr)\n\u001b[0;32m     14\u001b[0m \u001b[38;5;28mself\u001b[39m\u001b[38;5;241m.\u001b[39mModel_name \u001b[38;5;241m=\u001b[39m os\u001b[38;5;241m.\u001b[39mpath\u001b[38;5;241m.\u001b[39mjoin(\u001b[38;5;28mself\u001b[39m\u001b[38;5;241m.\u001b[39mSave_Path, \u001b[38;5;28mself\u001b[39m\u001b[38;5;241m.\u001b[39mpath)\n\u001b[1;32m---> 16\u001b[0m \u001b[38;5;28mself\u001b[39m\u001b[38;5;241m.\u001b[39mActor, \u001b[38;5;28mself\u001b[39m\u001b[38;5;241m.\u001b[39mCritic \u001b[38;5;241m=\u001b[39m \u001b[43mOurModel\u001b[49m\u001b[43m(\u001b[49m\u001b[43minput_shape\u001b[49m\u001b[38;5;241;43m=\u001b[39;49m\u001b[38;5;28;43mself\u001b[39;49m\u001b[38;5;241;43m.\u001b[39;49m\u001b[43mstate_size\u001b[49m\u001b[43m,\u001b[49m\u001b[43m \u001b[49m\u001b[43maction_space\u001b[49m\u001b[43m \u001b[49m\u001b[38;5;241;43m=\u001b[39;49m\u001b[43m \u001b[49m\u001b[38;5;28;43mself\u001b[39;49m\u001b[38;5;241;43m.\u001b[39;49m\u001b[43maction_size\u001b[49m\u001b[43m,\u001b[49m\u001b[43mlr\u001b[49m\u001b[38;5;241;43m=\u001b[39;49m\u001b[38;5;28;43mself\u001b[39;49m\u001b[38;5;241;43m.\u001b[39;49m\u001b[43mlr\u001b[49m\u001b[43m)\u001b[49m\n",
      "Cell \u001b[1;32mIn[3], line 13\u001b[0m, in \u001b[0;36mOurModel\u001b[1;34m(input_shape, action_space, lr)\u001b[0m\n\u001b[0;32m      9\u001b[0m X \u001b[38;5;241m=\u001b[39m Dense(\u001b[38;5;241m512\u001b[39m, activation\u001b[38;5;241m=\u001b[39m\u001b[38;5;124m\"\u001b[39m\u001b[38;5;124melu\u001b[39m\u001b[38;5;124m\"\u001b[39m, kernel_initializer\u001b[38;5;241m=\u001b[39m\u001b[38;5;124m'\u001b[39m\u001b[38;5;124mhe_uniform\u001b[39m\u001b[38;5;124m'\u001b[39m)(X)\n\u001b[0;32m     10\u001b[0m \u001b[38;5;66;03m#X = Dense(256, activation=\"elu\", kernel_initializer='he_uniform')(X)\u001b[39;00m\n\u001b[0;32m     11\u001b[0m \u001b[38;5;66;03m#X = Dense(64, activation=\"elu\", kernel_initializer='he_uniform')(X)\u001b[39;00m\n\u001b[1;32m---> 13\u001b[0m direction_output \u001b[38;5;241m=\u001b[39m \u001b[43mDense\u001b[49m\u001b[43m(\u001b[49m\u001b[43maction_space\u001b[49m\u001b[43m[\u001b[49m\u001b[38;5;241;43m0\u001b[39;49m\u001b[43m]\u001b[49m\u001b[43m,\u001b[49m\u001b[43m \u001b[49m\u001b[43mactivation\u001b[49m\u001b[38;5;241;43m=\u001b[39;49m\u001b[38;5;124;43m\"\u001b[39;49m\u001b[38;5;124;43msoftmax\u001b[39;49m\u001b[38;5;124;43m\"\u001b[39;49m\u001b[43m,\u001b[49m\u001b[43m \u001b[49m\u001b[43mkernel_initializer\u001b[49m\u001b[38;5;241;43m=\u001b[39;49m\u001b[38;5;124;43m'\u001b[39;49m\u001b[38;5;124;43mhe_uniform\u001b[39;49m\u001b[38;5;124;43m'\u001b[39;49m\u001b[43m,\u001b[49m\u001b[43m \u001b[49m\u001b[43mname\u001b[49m\u001b[38;5;241;43m=\u001b[39;49m\u001b[38;5;124;43m'\u001b[39;49m\u001b[38;5;124;43mdirection\u001b[39;49m\u001b[38;5;124;43m'\u001b[39;49m\u001b[43m)\u001b[49m(X)\n\u001b[0;32m     14\u001b[0m selection_node_output \u001b[38;5;241m=\u001b[39m Dense(action_space[\u001b[38;5;241m1\u001b[39m], activation\u001b[38;5;241m=\u001b[39m\u001b[38;5;124m\"\u001b[39m\u001b[38;5;124msoftmax\u001b[39m\u001b[38;5;124m\"\u001b[39m, kernel_initializer\u001b[38;5;241m=\u001b[39m\u001b[38;5;124m'\u001b[39m\u001b[38;5;124mhe_uniform\u001b[39m\u001b[38;5;124m'\u001b[39m, name\u001b[38;5;241m=\u001b[39m\u001b[38;5;124m'\u001b[39m\u001b[38;5;124mselection_node\u001b[39m\u001b[38;5;124m'\u001b[39m)(X)\n\u001b[0;32m     15\u001b[0m value_output \u001b[38;5;241m=\u001b[39m Dense(\u001b[38;5;241m1\u001b[39m, kernel_initializer\u001b[38;5;241m=\u001b[39m\u001b[38;5;124m'\u001b[39m\u001b[38;5;124mhe_uniform\u001b[39m\u001b[38;5;124m'\u001b[39m)(X)\n",
      "File \u001b[1;32mc:\\Users\\afoue\\AppData\\Local\\Programs\\Python\\Python311\\Lib\\site-packages\\keras\\src\\dtensor\\utils.py:96\u001b[0m, in \u001b[0;36mallow_initializer_layout.<locals>._wrap_function\u001b[1;34m(layer_instance, *args, **kwargs)\u001b[0m\n\u001b[0;32m     93\u001b[0m         \u001b[38;5;28;01mif\u001b[39;00m layout:\n\u001b[0;32m     94\u001b[0m             layout_args[variable_name \u001b[38;5;241m+\u001b[39m \u001b[38;5;124m\"\u001b[39m\u001b[38;5;124m_layout\u001b[39m\u001b[38;5;124m\"\u001b[39m] \u001b[38;5;241m=\u001b[39m layout\n\u001b[1;32m---> 96\u001b[0m \u001b[43minit_method\u001b[49m\u001b[43m(\u001b[49m\u001b[43mlayer_instance\u001b[49m\u001b[43m,\u001b[49m\u001b[43m \u001b[49m\u001b[38;5;241;43m*\u001b[39;49m\u001b[43margs\u001b[49m\u001b[43m,\u001b[49m\u001b[43m \u001b[49m\u001b[38;5;241;43m*\u001b[39;49m\u001b[38;5;241;43m*\u001b[39;49m\u001b[43mkwargs\u001b[49m\u001b[43m)\u001b[49m\n\u001b[0;32m     98\u001b[0m \u001b[38;5;66;03m# Inject the layout parameter after the invocation of __init__()\u001b[39;00m\n\u001b[0;32m     99\u001b[0m \u001b[38;5;28;01mfor\u001b[39;00m layout_param_name, layout \u001b[38;5;129;01min\u001b[39;00m layout_args\u001b[38;5;241m.\u001b[39mitems():\n",
      "File \u001b[1;32mc:\\Users\\afoue\\AppData\\Local\\Programs\\Python\\Python311\\Lib\\site-packages\\keras\\src\\layers\\core\\dense.py:119\u001b[0m, in \u001b[0;36mDense.__init__\u001b[1;34m(self, units, activation, use_bias, kernel_initializer, bias_initializer, kernel_regularizer, bias_regularizer, activity_regularizer, kernel_constraint, bias_constraint, **kwargs)\u001b[0m\n\u001b[0;32m    102\u001b[0m \u001b[38;5;129m@utils\u001b[39m\u001b[38;5;241m.\u001b[39mallow_initializer_layout\n\u001b[0;32m    103\u001b[0m \u001b[38;5;28;01mdef\u001b[39;00m \u001b[38;5;21m__init__\u001b[39m(\n\u001b[0;32m    104\u001b[0m     \u001b[38;5;28mself\u001b[39m,\n\u001b[1;32m   (...)\u001b[0m\n\u001b[0;32m    115\u001b[0m     \u001b[38;5;241m*\u001b[39m\u001b[38;5;241m*\u001b[39mkwargs,\n\u001b[0;32m    116\u001b[0m ):\n\u001b[0;32m    117\u001b[0m     \u001b[38;5;28msuper\u001b[39m()\u001b[38;5;241m.\u001b[39m\u001b[38;5;21m__init__\u001b[39m(activity_regularizer\u001b[38;5;241m=\u001b[39mactivity_regularizer, \u001b[38;5;241m*\u001b[39m\u001b[38;5;241m*\u001b[39mkwargs)\n\u001b[1;32m--> 119\u001b[0m     \u001b[38;5;28mself\u001b[39m\u001b[38;5;241m.\u001b[39munits \u001b[38;5;241m=\u001b[39m \u001b[38;5;28;43mint\u001b[39;49m\u001b[43m(\u001b[49m\u001b[43munits\u001b[49m\u001b[43m)\u001b[49m \u001b[38;5;28;01mif\u001b[39;00m \u001b[38;5;129;01mnot\u001b[39;00m \u001b[38;5;28misinstance\u001b[39m(units, \u001b[38;5;28mint\u001b[39m) \u001b[38;5;28;01melse\u001b[39;00m units\n\u001b[0;32m    120\u001b[0m     \u001b[38;5;28;01mif\u001b[39;00m \u001b[38;5;28mself\u001b[39m\u001b[38;5;241m.\u001b[39munits \u001b[38;5;241m<\u001b[39m \u001b[38;5;241m0\u001b[39m:\n\u001b[0;32m    121\u001b[0m         \u001b[38;5;28;01mraise\u001b[39;00m \u001b[38;5;167;01mValueError\u001b[39;00m(\n\u001b[0;32m    122\u001b[0m             \u001b[38;5;124m\"\u001b[39m\u001b[38;5;124mReceived an invalid value for `units`, expected \u001b[39m\u001b[38;5;124m\"\u001b[39m\n\u001b[0;32m    123\u001b[0m             \u001b[38;5;124mf\u001b[39m\u001b[38;5;124m\"\u001b[39m\u001b[38;5;124ma positive integer. Received: units=\u001b[39m\u001b[38;5;132;01m{\u001b[39;00munits\u001b[38;5;132;01m}\u001b[39;00m\u001b[38;5;124m\"\u001b[39m\n\u001b[0;32m    124\u001b[0m         )\n",
      "\u001b[1;31mTypeError\u001b[0m: int() argument must be a string, a bytes-like object or a real number, not 'Discrete'"
     ]
    }
   ],
   "source": [
    "from setting_the_environment import AUVEnvironment  \n",
    "\n",
    "   \n",
    "env = AUVEnvironment()\n",
    "\n",
    "agent = A2CAgent(env)\n",
    "agent.run()"
   ]
  },
  {
   "cell_type": "code",
   "execution_count": null,
   "metadata": {},
   "outputs": [],
   "source": []
  }
 ],
 "metadata": {
  "kernelspec": {
   "display_name": "Python 3",
   "language": "python",
   "name": "python3"
  },
  "language_info": {
   "codemirror_mode": {
    "name": "ipython",
    "version": 3
   },
   "file_extension": ".py",
   "mimetype": "text/x-python",
   "name": "python",
   "nbconvert_exporter": "python",
   "pygments_lexer": "ipython3",
   "version": "3.11.4"
  }
 },
 "nbformat": 4,
 "nbformat_minor": 2
}
