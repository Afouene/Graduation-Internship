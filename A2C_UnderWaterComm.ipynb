{
 "cells": [
  {
   "cell_type": "code",
   "execution_count": 1,
   "metadata": {},
   "outputs": [
    {
     "name": "stdout",
     "output_type": "stream",
     "text": [
      "WARNING:tensorflow:From c:\\Users\\afoue\\AppData\\Local\\Programs\\Python\\Python311\\Lib\\site-packages\\keras\\src\\losses.py:2976: The name tf.losses.sparse_softmax_cross_entropy is deprecated. Please use tf.compat.v1.losses.sparse_softmax_cross_entropy instead.\n",
      "\n"
     ]
    }
   ],
   "source": [
    "\n",
    "\n",
    "import os\n",
    "#os.environ['CUDA_VISIBLE_DEVICES'] = '0'\n",
    "import random\n",
    "import pylab\n",
    "import numpy as np\n",
    "from tensorflow.keras.models import Model, load_model\n",
    "from tensorflow.keras.layers import Input, Dense, Lambda, Add, Conv2D, Flatten\n",
    "from tensorflow.keras.optimizers import Adam, RMSprop\n",
    "from tensorflow.keras import backend as K\n",
    "import cv2\n",
    "from gym.envs.registration import register"
   ]
  },
  {
   "cell_type": "markdown",
   "metadata": {},
   "source": [
    "Defining The Model "
   ]
  },
  {
   "cell_type": "code",
   "execution_count": 2,
   "metadata": {},
   "outputs": [],
   "source": [
    "def OurModel(input_shape, action_space, lr):\n",
    "    X_input = Input(input_shape)\n",
    "\n",
    "    \n",
    "    X = Flatten(input_shape=input_shape)(X_input)\n",
    "\n",
    "    X = Dense(512, activation=\"elu\", kernel_initializer='he_uniform')(X)\n",
    "    \n",
    "\n",
    "    direction_output = Dense(action_space[0], activation=\"softmax\", kernel_initializer='he_uniform', name='direction')(X)\n",
    "    selection_node_output = Dense(action_space[1], activation=\"softmax\", kernel_initializer='he_uniform', name='selection_node')(X)\n",
    "    value_output = Dense(1, kernel_initializer='he_uniform')(X)\n",
    "\n",
    "    Actor = Model(inputs=X_input, outputs=[direction_output, selection_node_output])\n",
    "    Actor.compile(loss='categorical_crossentropy', optimizer=RMSprop(lr=lr))\n",
    "\n",
    "    Critic = Model(inputs = X_input, outputs = value_output)\n",
    "    Critic.compile(loss='mse', optimizer=RMSprop(lr=lr))\n",
    "\n",
    "    return Actor, Critic"
   ]
  },
  {
   "cell_type": "code",
   "execution_count": 3,
   "metadata": {},
   "outputs": [],
   "source": [
    "class A2CAgent:\n",
    "    def __init__(self,environment):\n",
    "        self.env=environment\n",
    "        self.action_size=(6,5) #we have six diirections and 5 nodes for the auv to select from\n",
    "        self.EPISODES=1\n",
    "        self.state_size = (3,1)  # for now I'll take the state as only the auv current position (x,y,z)\n",
    "\n",
    "        self.lr = 0.000025\n",
    "        self.states, self.actions, self.rewards = [], [], []\n",
    "\n",
    "        self.Save_Path = 'training\\saved_models'\n",
    "        if not os.path.exists(self.Save_Path): os.makedirs(self.Save_Path)\n",
    "        self.path = '{}_A2C_{}'.format(self.env, self.lr)\n",
    "        self.Model_name = os.path.join(self.Save_Path, self.path)\n",
    "\n",
    "        self.Actor, self.Critic = OurModel(input_shape=self.state_size, action_space = self.action_size,lr=self.lr)\n",
    "\n",
    "    \n",
    "\n",
    "    def remember(self, state, action, reward):\n",
    "\n",
    "        self.states.append(state)\n",
    "        self.actions.append(action)  \n",
    "        self.rewards.append(reward)\n",
    "\n",
    "    \n",
    "    def act(self,state):\n",
    "        state = state.reshape((1,3))\n",
    "        direction_probs,selection_node_probs=self.Actor.predict(state)\n",
    "        direction = np.random.choice(6, p=direction_probs[0])\n",
    "        selection_node = np.random.choice(5, p=selection_node_probs[0])\n",
    "        \n",
    "        return direction,selection_node\n",
    "    \n",
    "    def discount_rewards(self, reward):\n",
    "        gamma = 0.99  # The discount rate will be set to this value\n",
    "        discounted_r = np.zeros_like(reward)\n",
    "        running_add = 0\n",
    "\n",
    "    # we Compute discounted rewards for each time step\n",
    "        for t in reversed(range(len(reward))):\n",
    "            running_add = running_add * gamma + reward[t]\n",
    "            discounted_r[t] = running_add\n",
    "\n",
    "        return discounted_r\n",
    "    \n",
    "    def replay(self):\n",
    "        states=np.vstack(self.states)\n",
    "        actions_dir,actions_selection_node=np.vstack([ act[0] for act in self.actions]), np.vstack([act[1] for act in self.actions])\n",
    "        discounted_r=self.discount_rewards(self.rewards)\n",
    "        values=self.Critic.predict(states)[:,0]\n",
    "        advantages=discounted_r - values\n",
    "        self.Actor.fit(states, [actions_dir, actions_selection_node], sample_weight=[advantages,advantages], epochs=1, verbose=0)\n",
    "        self.Critic.fit(states, discounted_r, epochs=1, verbose=0)\n",
    "\n",
    "        self.states, self.actions, self.rewards = [], [], []     #  For Reseting the  training memory\n",
    "\n",
    "    def load(self, Actor_name, Critic_name):\n",
    "        self.Actor = load_model(Actor_name, compile=False)\n",
    "        #self.Critic = load_model(Critic_name, compile=False)\n",
    "\n",
    "    def save(self):\n",
    "        self.Actor.save(self.Model_name + '_Actor.h5')\n",
    "        #self.Critic.save(self.Model_name + '_Critic.h5')\n",
    "\n",
    "    def step(self, action):\n",
    "        next_state, reward, done, info = self.env.step(action)\n",
    "        \n",
    "        return next_state, reward, done, info\n",
    "    def run(self):\n",
    "        for e in range(self.EPISODES):\n",
    "            state = self.env.reset()\n",
    "            done, score, SAVING = False, 0, ''\n",
    "            while not done:\n",
    "                self.env.render()\n",
    "                # Actor picks an action\n",
    "                action = self.act(state)\n",
    "                # Retrieve new state, reward, and whether the state is terminal\n",
    "                next_state, reward, done, _ = self.step(action)\n",
    "                # Memorize (state, action, reward) for training\n",
    "                self.remember(state, action, reward)\n",
    "                # Update current state\n",
    "                state = next_state\n",
    "                score += reward\n",
    "                if done:\n",
    "                    \n",
    "                    print(\"episode: {}/{}, score: {}, {}\".format(e, self.EPISODES, score, SAVING))\n",
    "\n",
    "                    #self.replay()\n",
    "                    self.states, self.actions, self.rewards = [], [], []\n",
    "        # close environemnt when finish training\n",
    "            self.env.close()\n",
    "         \n",
    "    \n",
    "\n",
    "\n",
    "\n",
    "    \n",
    "\n",
    "\n",
    "    \n",
    "\n",
    "\n",
    "\n",
    "\n"
   ]
  },
  {
   "cell_type": "code",
   "execution_count": 4,
   "metadata": {},
   "outputs": [
    {
     "name": "stdout",
     "output_type": "stream",
     "text": [
      "WARNING:tensorflow:From c:\\Users\\afoue\\AppData\\Local\\Programs\\Python\\Python311\\Lib\\site-packages\\keras\\src\\backend.py:1398: The name tf.executing_eagerly_outside_functions is deprecated. Please use tf.compat.v1.executing_eagerly_outside_functions instead.\n",
      "\n"
     ]
    },
    {
     "name": "stderr",
     "output_type": "stream",
     "text": [
      "WARNING:absl:`lr` is deprecated in Keras optimizer, please use `learning_rate` or use the legacy optimizer, e.g.,tf.keras.optimizers.legacy.RMSprop.\n",
      "WARNING:absl:`lr` is deprecated in Keras optimizer, please use `learning_rate` or use the legacy optimizer, e.g.,tf.keras.optimizers.legacy.RMSprop.\n"
     ]
    },
    {
     "name": "stdout",
     "output_type": "stream",
     "text": [
      "1/1 [==============================] - 0s 77ms/step\n",
      "1/1 [==============================] - 0s 18ms/step\n",
      "1/1 [==============================] - 0s 18ms/step\n",
      "1/1 [==============================] - 0s 19ms/step\n",
      "1/1 [==============================] - 0s 17ms/step\n",
      "1/1 [==============================] - 0s 26ms/step\n",
      "1/1 [==============================] - 0s 17ms/step\n",
      "1/1 [==============================] - 0s 17ms/step\n",
      "1/1 [==============================] - 0s 17ms/step\n",
      "1/1 [==============================] - 0s 18ms/step\n",
      "1/1 [==============================] - 0s 17ms/step\n",
      "1/1 [==============================] - 0s 18ms/step\n",
      "1/1 [==============================] - 0s 17ms/step\n",
      "1/1 [==============================] - 0s 18ms/step\n",
      "1/1 [==============================] - 0s 17ms/step\n",
      "1/1 [==============================] - 0s 19ms/step\n",
      "1/1 [==============================] - 0s 24ms/step\n",
      "1/1 [==============================] - 0s 22ms/step\n",
      "1/1 [==============================] - 0s 17ms/step\n",
      "1/1 [==============================] - 0s 18ms/step\n",
      "episode: 0/1, score: 78.6522359034519, \n"
     ]
    },
    {
     "ename": "",
     "evalue": "",
     "output_type": "error",
     "traceback": [
      "\u001b[1;31mThe Kernel crashed while executing code in the current cell or a previous cell. \n",
      "\u001b[1;31mPlease review the code in the cell(s) to identify a possible cause of the failure. \n",
      "\u001b[1;31mClick <a href='https://aka.ms/vscodeJupyterKernelCrash'>here</a> for more info. \n",
      "\u001b[1;31mView Jupyter <a href='command:jupyter.viewOutput'>log</a> for further details."
     ]
    }
   ],
   "source": [
    "from setting_the_environment import AUVEnvironment  \n",
    "\n",
    "   \n",
    "env = AUVEnvironment()\n",
    "\n",
    "agent = A2CAgent(env)\n",
    "agent.run()"
   ]
  },
  {
   "cell_type": "code",
   "execution_count": null,
   "metadata": {},
   "outputs": [],
   "source": []
  }
 ],
 "metadata": {
  "kernelspec": {
   "display_name": "Python 3",
   "language": "python",
   "name": "python3"
  },
  "language_info": {
   "codemirror_mode": {
    "name": "ipython",
    "version": 3
   },
   "file_extension": ".py",
   "mimetype": "text/x-python",
   "name": "python",
   "nbconvert_exporter": "python",
   "pygments_lexer": "ipython3",
   "version": "3.11.4"
  }
 },
 "nbformat": 4,
 "nbformat_minor": 2
}
